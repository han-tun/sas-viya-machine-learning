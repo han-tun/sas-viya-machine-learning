{
 "cells": [
  {
   "cell_type": "markdown",
   "id": "875efdf3",
   "metadata": {},
   "source": [
    "Example on generating centroids table for the HMEQ dataset\n",
    "https://www.kaggle.com/ajay1735/hmeq-data\n",
    "You can use this example to generate the cetroids table for the desired dataset."
   ]
  },
  {
   "cell_type": "code",
   "execution_count": null,
   "id": "5620e565",
   "metadata": {},
   "outputs": [],
   "source": [
    "s.upload(\"hmeq.csv\", casout='hmeq').casTable\n",
    "\n",
    "\n",
    "s.loadactionset('nonParametricBayes')\n",
    "s.gmm(\n",
    "       table       = {\"name\":\"hmeq\"},\n",
    "                inputs      = {\"value\"},\n",
    "                seed        = 1234567890,\n",
    "                maxClusters = 10,\n",
    "                alpha       = 1,\n",
    "                infer       = {\"method\":\"VB\",\n",
    "                               \"maxVbIter\" :30,\n",
    "                               \"covariance\":\"diagonal\",\n",
    "                               \"threshold\":0.01},\n",
    "                output={\"casOut\":{\"name\":\"Score\", \"replace\":\"True\"}},\n",
    "\n",
    "                display     = {\"names\":{ \"ClusterInfo\"}},\n",
    "                outputtables ={\"names\":{\"ClusterInfo\"}},\n",
    "\n",
    "\n",
    "\n",
    ")\n",
    "cluster_value=s.CASTable(\"ClusterInfo\",replace=\"True\" )\n",
    "cluster_value=cluster_value.to_frame()\n",
    "\n",
    "table_value=cluster_value.rename(columns={'VALUE Mean':'Mean'})\n",
    "table_value=table_value.rename(columns={'VALUE Variance':'Variance'})\n",
    "table_value['Std']=table_value['Variance']**(1/2)\n",
    "table_value=table_value.drop(columns={'Variance'})\n",
    "table_value(0,'VarName',\"Value\")\n",
    "table_value=table_value.rename(columns={'_CLUSTER_ID_':'Centroid_i'})\n",
    "s.table.dropTable(\"ClusterInfo\")\n",
    "s.loadactionset('nonParametricBayes')\n",
    "s.gmm(\n",
    "       table       = {\"name\":\"hmeq\"},\n",
    "                inputs      = {\"clage\"},\n",
    "                seed        = 1234567890,\n",
    "                maxClusters = 10,\n",
    "                alpha       = 1,\n",
    "                infer       = {\"method\":\"VB\",\n",
    "                               \"maxVbIter\" :30,\n",
    "                               \"covariance\":\"diagonal\",\n",
    "                               \"threshold\":0.01},\n",
    "                output={\"casOut\":{\"name\":\"Score\", \"replace\":\"True\"}},\n",
    "\n",
    "                display     = {\"names\":{ \"ClusterInfo\"}},\n",
    "                outputtables ={\"names\":{\"ClusterInfo\"}},\n",
    "\n",
    "\n",
    "\n",
    ")\n",
    "cluster_clage=s.CASTable(\"ClusterInfo\",replace=\"True\")\n",
    "cluster_clage=cluster_clage.to_frame()\n",
    "\n",
    "table_clage=cluster_clage.rename(columns={'CLAGE Mean':'Mean'})\n",
    "table_clage=table_clage.rename(columns={'CLAGE Variance':'Variance'})\n",
    "table_clage['Std']=table_clage['Variance']**1/2\n",
    "table_clage=table_clage.drop(columns={'Variance'})\n",
    "table_clage.insert(0,'VarName',\"Clage\")\n",
    "table_clage=table_clage.rename(columns={'_CLUSTER_ID_':'Centroid_i'})\n",
    "\n",
    "cen = table_value.append(table_clage)\n",
    "cen.rename(columns={'Cweight':'Weight'}, inplace=True)\n",
    "s.upload(cen, casout='cen').casTable\n"
   ]
  }
 ],
 "metadata": {
  "kernelspec": {
   "display_name": "Python 3",
   "language": "python",
   "name": "python3"
  },
  "language_info": {
   "codemirror_mode": {
    "name": "ipython",
    "version": 3
   },
   "file_extension": ".py",
   "mimetype": "text/x-python",
   "name": "python",
   "nbconvert_exporter": "python",
   "pygments_lexer": "ipython3",
   "version": "3.8.8"
  }
 },
 "nbformat": 4,
 "nbformat_minor": 5
}
